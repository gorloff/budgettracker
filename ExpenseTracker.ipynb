{
 "cells": [
  {
   "cell_type": "code",
   "execution_count": 6,
   "id": "f02109fc-113e-4e23-9f07-cfc8553106d3",
   "metadata": {},
   "outputs": [
    {
     "name": "stdout",
     "output_type": "stream",
     "text": [
      "\n",
      " Expense Tracker Menu \n",
      "1. Add expense\n",
      "2. View expenses\n",
      "3. Track budget\n",
      "4. Save expenses\n",
      "5. Exit\n"
     ]
    },
    {
     "name": "stdin",
     "output_type": "stream",
     "text": [
      "Enter your choice (1-5):  1\n",
      "Enter the date (YYYY-MM-DD):  2025-05-27\n",
      "Enter the category (e.g., Food, Travel):  food\n",
      "Enter the amount:  20\n",
      "Enter a brief description:  bananas\n"
     ]
    },
    {
     "name": "stdout",
     "output_type": "stream",
     "text": [
      "Expense added successfully!\n",
      "\n",
      " Expense Tracker Menu \n",
      "1. Add expense\n",
      "2. View expenses\n",
      "3. Track budget\n",
      "4. Save expenses\n",
      "5. Exit\n"
     ]
    },
    {
     "name": "stdin",
     "output_type": "stream",
     "text": [
      "Enter your choice (1-5):  2\n"
     ]
    },
    {
     "name": "stdout",
     "output_type": "stream",
     "text": [
      "\n",
      "--- Expenses ---\n",
      "Date: 2025-05-22, Category: Travel, Amount: $2600.00, Description: flight to mexico\n",
      "Date: 2025-05-27, Category: food, Amount: $20.00, Description: bananas\n",
      "\n",
      " Expense Tracker Menu \n",
      "1. Add expense\n",
      "2. View expenses\n",
      "3. Track budget\n",
      "4. Save expenses\n",
      "5. Exit\n"
     ]
    },
    {
     "name": "stdin",
     "output_type": "stream",
     "text": [
      "Enter your choice (1-5):  3\n",
      "Enter your monthly budget:  10000\n"
     ]
    },
    {
     "name": "stdout",
     "output_type": "stream",
     "text": [
      "You have $7380.00 left.\n",
      "\n",
      " Expense Tracker Menu \n",
      "1. Add expense\n",
      "2. View expenses\n",
      "3. Track budget\n",
      "4. Save expenses\n",
      "5. Exit\n"
     ]
    },
    {
     "name": "stdin",
     "output_type": "stream",
     "text": [
      "Enter your choice (1-5):  4\n"
     ]
    },
    {
     "name": "stdout",
     "output_type": "stream",
     "text": [
      "Expenses saved.\n",
      "\n",
      " Expense Tracker Menu \n",
      "1. Add expense\n",
      "2. View expenses\n",
      "3. Track budget\n",
      "4. Save expenses\n",
      "5. Exit\n"
     ]
    },
    {
     "name": "stdin",
     "output_type": "stream",
     "text": [
      "Enter your choice (1-5):  5\n"
     ]
    },
    {
     "name": "stdout",
     "output_type": "stream",
     "text": [
      "Exiting program. Expenses saved.\n"
     ]
    }
   ],
   "source": [
    "##### IMPORT LIBRARIES FOR CODE\n",
    "\n",
    "import csv\n",
    "import os\n",
    "\n",
    "# LIST FOR EXPENSES\n",
    "expenses = []\n",
    "\n",
    "# csv file with expenses\n",
    "def load_expenses(filename=\"expenses.csv\"):\n",
    "    global expenses\n",
    "    if os.path.exists(filename):\n",
    "        with open(filename, mode=\"r\") as file:\n",
    "            reader = csv.DictReader(file)\n",
    "            for row in reader:\n",
    "                row[\"amount\"] = float(row[\"amount\"])  # Convert amount to float for actual amount\n",
    "                expenses.append(row)\n",
    "\n",
    "# Function to write and save expenses in csv file\n",
    "def save_expenses(filename=\"expenses.csv\"):\n",
    "    with open(filename, mode=\"w\", newline=\"\") as file:\n",
    "        fieldnames = [\"date\", \"category\", \"amount\", \"description\"]\n",
    "        writer = csv.DictWriter(file, fieldnames=fieldnames)\n",
    "        writer.writeheader()\n",
    "        writer.writerows(expenses)\n",
    "\n",
    "# adding expenses\n",
    "def add_expense():\n",
    "    date = input(\"Enter the date (YYYY-MM-DD): \")\n",
    "    category = input(\"Enter the category (e.g., Food, Travel): \")\n",
    "    try:\n",
    "        amount = float(input(\"Enter the amount: \"))\n",
    "    except ValueError:\n",
    "        print(\"Invalid amount. Please enter a number.\")\n",
    "        return\n",
    "    description = input(\"Enter a brief description: \")\n",
    "\n",
    "    expense = {\n",
    "        \"date\": date,\n",
    "        \"category\": category,\n",
    "        \"amount\": amount,\n",
    "        \"description\": description\n",
    "    }\n",
    "\n",
    "    expenses.append(expense)\n",
    "    print(\"Expense added successfully!\")\n",
    "\n",
    "# function to open expenses\n",
    "def view_expenses():\n",
    "    if not expenses:\n",
    "        print(\"No expenses recorded yet.\")\n",
    "        return\n",
    "\n",
    "    print(\"\\n--- Expenses ---\")\n",
    "    for expense in expenses:\n",
    "        if all(key in expense for key in [\"date\", \"category\", \"amount\", \"description\"]):\n",
    "            print(f\"Date: {expense['date']}, Category: {expense['category']}, \"\n",
    "                  f\"Amount: ${expense['amount']:.2f}, Description: {expense['description']}\")\n",
    "        else:\n",
    "            print(\"Incomplete expense record found. Skipping...\")\n",
    "\n",
    "# budget tracker set and check\n",
    "def track_budget():\n",
    "    try:\n",
    "        monthly_budget = float(input(\"Enter your monthly budget: \"))\n",
    "    except ValueError:\n",
    "        print(\"Invalid input. Please enter a number.\")\n",
    "        return\n",
    "\n",
    "    total_expenses = sum(expense[\"amount\"] for expense in expenses)\n",
    "\n",
    "    if total_expenses > monthly_budget:\n",
    "        print(f\"Warning: You are over budget by ${total_expenses - monthly_budget:.2f}!\")\n",
    "    else:\n",
    "        print(f\"You have ${monthly_budget - total_expenses:.2f} left.\")\n",
    "\n",
    "# interactive menu\n",
    "def interactive_menu():\n",
    "    load_expenses()  # Load expenses at the start\n",
    "\n",
    "    while True:\n",
    "        print(\"\\n Expense Tracker Menu \")\n",
    "        print(\"1. Add expense\")\n",
    "        print(\"2. View expenses\")\n",
    "        print(\"3. Track budget\")\n",
    "        print(\"4. Save expenses\")\n",
    "        print(\"5. Exit\")\n",
    "        choice = input(\"Enter your choice (1-5): \")\n",
    "        if choice == \"1\":\n",
    "            add_expense()\n",
    "        elif choice == \"2\":\n",
    "            view_expenses()\n",
    "        elif choice == \"3\":\n",
    "            track_budget()\n",
    "        elif choice == \"4\":\n",
    "            save_expenses()\n",
    "            print(\"Expenses saved.\")\n",
    "        elif choice == \"5\":\n",
    "            save_expenses()\n",
    "            print(\"Exiting program. Expenses saved.\")\n",
    "            break\n",
    "        else:\n",
    "            print(\"Invalid choice.\")\n",
    "\n",
    "# Run the program\n",
    "if __name__ == \"__main__\":\n",
    "    interactive_menu()\n"
   ]
  },
  {
   "cell_type": "code",
   "execution_count": null,
   "id": "9248c7c3-86dc-432e-ae4f-b215d6c1584a",
   "metadata": {},
   "outputs": [],
   "source": []
  },
  {
   "cell_type": "code",
   "execution_count": null,
   "id": "ad2d26f2-c408-48aa-bcb6-032cdac8e05c",
   "metadata": {},
   "outputs": [],
   "source": []
  }
 ],
 "metadata": {
  "kernelspec": {
   "display_name": "Python [conda env:base] *",
   "language": "python",
   "name": "conda-base-py"
  },
  "language_info": {
   "codemirror_mode": {
    "name": "ipython",
    "version": 3
   },
   "file_extension": ".py",
   "mimetype": "text/x-python",
   "name": "python",
   "nbconvert_exporter": "python",
   "pygments_lexer": "ipython3",
   "version": "3.12.7"
  }
 },
 "nbformat": 4,
 "nbformat_minor": 5
}
